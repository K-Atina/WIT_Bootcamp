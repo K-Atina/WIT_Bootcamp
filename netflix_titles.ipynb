{
 "cells": [
  {
   "cell_type": "markdown",
   "id": "125c62aa",
   "metadata": {},
   "source": [
    "# Data Wrangling Assignment"
   ]
  },
  {
   "cell_type": "markdown",
   "id": "05f3bf57",
   "metadata": {},
   "source": [
    "### First step is to import the necessary libraries and load the dataset\n"
   ]
  },
  {
   "cell_type": "code",
   "execution_count": 1,
   "id": "e67ae6bb",
   "metadata": {},
   "outputs": [],
   "source": [
    "#import the Pandas Library\n",
    "import pandas as pd\n"
   ]
  },
  {
   "cell_type": "code",
   "execution_count": 2,
   "id": "440ad620",
   "metadata": {},
   "outputs": [],
   "source": [
    "#Loading the Netflix Dataset\n",
    "df = pd.read_csv(\"netflix_titles.csv\")"
   ]
  },
  {
   "cell_type": "markdown",
   "id": "85a567d5",
   "metadata": {},
   "source": [
    "### Data Discovery"
   ]
  },
  {
   "cell_type": "code",
   "execution_count": 3,
   "id": "64c6ba5b",
   "metadata": {},
   "outputs": [
    {
     "name": "stdout",
     "output_type": "stream",
     "text": [
      "<class 'pandas.core.frame.DataFrame'>\n",
      "RangeIndex: 8807 entries, 0 to 8806\n",
      "Data columns (total 12 columns):\n",
      " #   Column        Non-Null Count  Dtype \n",
      "---  ------        --------------  ----- \n",
      " 0   show_id       8807 non-null   object\n",
      " 1   type          8807 non-null   object\n",
      " 2   title         8807 non-null   object\n",
      " 3   director      6173 non-null   object\n",
      " 4   cast          7982 non-null   object\n",
      " 5   country       7976 non-null   object\n",
      " 6   date_added    8797 non-null   object\n",
      " 7   release_year  8807 non-null   int64 \n",
      " 8   rating        8803 non-null   object\n",
      " 9   duration      8804 non-null   object\n",
      " 10  listed_in     8807 non-null   object\n",
      " 11  description   8807 non-null   object\n",
      "dtypes: int64(1), object(11)\n",
      "memory usage: 825.8+ KB\n"
     ]
    }
   ],
   "source": [
    "#Quick overview of the DataSet\n",
    "df.info()"
   ]
  },
  {
   "cell_type": "markdown",
   "id": "5a176526",
   "metadata": {},
   "source": [
    "##### The non-uniformity in the number of values in the category suggests that later on, we might see missing values in director, cast, country, date_added,rating and duration."
   ]
  },
  {
   "cell_type": "markdown",
   "id": "70787d7d",
   "metadata": {},
   "source": [
    "#### Shape of the dataset.This will print the number of rows and columns"
   ]
  },
  {
   "cell_type": "code",
   "execution_count": 5,
   "id": "e098c363",
   "metadata": {},
   "outputs": [
    {
     "name": "stdout",
     "output_type": "stream",
     "text": [
      "Shape of the dataset(Rows,Columns):  (8807, 12)\n"
     ]
    }
   ],
   "source": [
    "print(\"Shape of the dataset(Rows,Columns): \", df.shape)\n"
   ]
  },
  {
   "cell_type": "markdown",
   "id": "c570bf2f",
   "metadata": {},
   "source": [
    "#### Listing the name of the columns (header names)"
   ]
  },
  {
   "cell_type": "code",
   "execution_count": 8,
   "id": "2989d90c",
   "metadata": {},
   "outputs": [
    {
     "name": "stdout",
     "output_type": "stream",
     "text": [
      "Columns in the dataset: \n",
      " Index(['show_id', 'type', 'title', 'director', 'cast', 'country', 'date_added',\n",
      "       'release_year', 'rating', 'duration', 'listed_in', 'description'],\n",
      "      dtype='object')\n"
     ]
    }
   ],
   "source": [
    "print(\"Columns in the dataset: \\n\", df.columns)"
   ]
  },
  {
   "cell_type": "markdown",
   "id": "75adb701",
   "metadata": {},
   "source": [
    "#### Checking for null values\n"
   ]
  },
  {
   "cell_type": "code",
   "execution_count": 9,
   "id": "7e474ff7",
   "metadata": {},
   "outputs": [
    {
     "name": "stdout",
     "output_type": "stream",
     "text": [
      "Missing values per columns:\n",
      " show_id            0\n",
      "type               0\n",
      "title              0\n",
      "director        2634\n",
      "cast             825\n",
      "country          831\n",
      "date_added        10\n",
      "release_year       0\n",
      "rating             4\n",
      "duration           3\n",
      "listed_in          0\n",
      "description        0\n",
      "dtype: int64\n"
     ]
    }
   ],
   "source": [
    "print(\"Missing values per columns:\\n\", df.isnull().sum())"
   ]
  },
  {
   "cell_type": "markdown",
   "id": "1f87201a",
   "metadata": {},
   "source": [
    "##### As we can see , several columns seem to have missing values: director, cast, country, date_added, rating, duration. This coincides with the non-uniformity seen earlier."
   ]
  },
  {
   "cell_type": "markdown",
   "id": "d89f52e2",
   "metadata": {},
   "source": [
    "### Checking for duplicates"
   ]
  },
  {
   "cell_type": "code",
   "execution_count": 10,
   "id": "638cb5c1",
   "metadata": {},
   "outputs": [
    {
     "name": "stdout",
     "output_type": "stream",
     "text": [
      "Number of duplicate rows:  0\n"
     ]
    }
   ],
   "source": [
    "print(\"Number of duplicate rows: \", df.duplicated().sum())"
   ]
  },
  {
   "cell_type": "markdown",
   "id": "8e3f5483",
   "metadata": {},
   "source": [
    "##### We seem to have no duplicates in values in the dataset"
   ]
  },
  {
   "cell_type": "markdown",
   "id": "b45828f2",
   "metadata": {},
   "source": [
    "## Data Structuring\n"
   ]
  },
  {
   "cell_type": "markdown",
   "id": "cd3bb07d",
   "metadata": {},
   "source": [
    "#### Converting the data_added column to datetime"
   ]
  },
  {
   "cell_type": "code",
   "execution_count": 11,
   "id": "0b47e1c8",
   "metadata": {},
   "outputs": [],
   "source": [
    "df[\"date_added\"]=pd.to_datetime(df[\"date_added\"],format='mixed')"
   ]
  },
  {
   "cell_type": "markdown",
   "id": "6a64fbf7",
   "metadata": {},
   "source": [
    "#### Separate 'duration' into numeric value and unit"
   ]
  },
  {
   "cell_type": "code",
   "execution_count": null,
   "id": "2baf64d6",
   "metadata": {},
   "outputs": [],
   "source": [
    "df[['duration_value', 'duration_unit']] = df['duration'].str.extract(r'(\\d+)\\s*(\\w+)')"
   ]
  },
  {
   "cell_type": "markdown",
   "id": "4bdf8633",
   "metadata": {},
   "source": [
    "#### Convert duration_value to numeric"
   ]
  },
  {
   "cell_type": "code",
   "execution_count": 16,
   "id": "47d4f7b4",
   "metadata": {},
   "outputs": [],
   "source": [
    "df['duration_value'] = pd.to_numeric(df['duration_value'])"
   ]
  },
  {
   "cell_type": "markdown",
   "id": "7067d6bf",
   "metadata": {},
   "source": [
    "#### View Resulting columns\n",
    "\n"
   ]
  },
  {
   "cell_type": "code",
   "execution_count": 18,
   "id": "8e379319",
   "metadata": {},
   "outputs": [
    {
     "name": "stdout",
     "output_type": "stream",
     "text": [
      "      duration_value duration_unit\n",
      "0               90.0           min\n",
      "1                2.0       Seasons\n",
      "2                1.0        Season\n",
      "3                1.0        Season\n",
      "4                2.0       Seasons\n",
      "...              ...           ...\n",
      "8802           158.0           min\n",
      "8803             2.0       Seasons\n",
      "8804            88.0           min\n",
      "8805            88.0           min\n",
      "8806           111.0           min\n",
      "\n",
      "[8807 rows x 2 columns]\n"
     ]
    }
   ],
   "source": [
    "print(df[['duration_value', 'duration_unit']])"
   ]
  },
  {
   "cell_type": "markdown",
   "id": "20508031",
   "metadata": {},
   "source": [
    "## Data Cleaning"
   ]
  },
  {
   "cell_type": "markdown",
   "id": "4dd12a32",
   "metadata": {},
   "source": [
    "##### From the discovery phase, we know that the dataset has no duplicate values and that some columns have missing values"
   ]
  },
  {
   "cell_type": "code",
   "execution_count": 21,
   "id": "3731d9bb",
   "metadata": {},
   "outputs": [],
   "source": [
    "# Dropping the unnecessary columns\n",
    "df = df.drop(columns=['description'])"
   ]
  },
  {
   "cell_type": "markdown",
   "id": "6cd551f5",
   "metadata": {},
   "source": [
    "##### For certain columns, we will fill them through imputation. Imputation is a  method where missing values are filled based on the information from other related columns"
   ]
  },
  {
   "cell_type": "code",
   "execution_count": 23,
   "id": "99410420",
   "metadata": {},
   "outputs": [],
   "source": [
    "#Impute Director values by using relationship between cast and director\n",
    "# List of Director-Cast pairs and the number of times they appear\n",
    "df['dir_cast'] = df['director'] + '---' + df['cast']\n",
    "counts = df['dir_cast'].value_counts() #counts unique values\n",
    "filtered_counts = counts[counts >= 3] #checks if repeated 3 or more times\n",
    "filtered_values = filtered_counts.index #gets the values i.e. names\n",
    "lst_dir_cast = list(filtered_values) #convert to list\n",
    "dict_direcast = dict()\n",
    "for i in lst_dir_cast :\n",
    "    director,cast = i.split('---')\n",
    "    dict_direcast[director]=cast\n",
    "for i in range(len(dict_direcast)):\n",
    "    df.loc[(df['director'].isna()) & (df['cast'] == list(dict_direcast.items())[i][1]),'director'] = list(dict_direcast.items())[i][0]\n"
   ]
  },
  {
   "cell_type": "code",
   "execution_count": 24,
   "id": "1b99fb43",
   "metadata": {},
   "outputs": [],
   "source": [
    "#Assign Not Given to all other director fields\n",
    "df.loc[df['director'].isna(),'director']='Not Given'"
   ]
  },
  {
   "cell_type": "code",
   "execution_count": 26,
   "id": "c969bc1a",
   "metadata": {},
   "outputs": [],
   "source": [
    "#Use directors to fill all missing countries\n",
    "directors = df['director']\n",
    "countries = df['country']\n",
    "#pair each director with their country use zip() to get an iterator of tuples\n",
    "pairs = zip(directors, countries)\n",
    "# Convert the list of tuples into a dictionary\n",
    "dir_cntry = dict(list(pairs))\n"
   ]
  },
  {
   "cell_type": "code",
   "execution_count": 28,
   "id": "a08685a2",
   "metadata": {},
   "outputs": [],
   "source": [
    "# Director matched to Country values used to fill in null country values\n",
    "for i in range(len(dir_cntry)):\n",
    "    df.loc[(df['country'].isna()) & (df['director'] == list(dir_cntry.items())[i][0]),'country'] = list(dir_cntry.items())[i][1]\n"
   ]
  },
  {
   "cell_type": "code",
   "execution_count": 29,
   "id": "921423ae",
   "metadata": {},
   "outputs": [],
   "source": [
    "# Assign Not Given to all other country fields\n",
    "df.loc[df['country'].isna(),'country'] = 'Not Given'\n"
   ]
  },
  {
   "cell_type": "code",
   "execution_count": 31,
   "id": "41f4c1bb",
   "metadata": {},
   "outputs": [],
   "source": [
    "# Assign Not Given to all other fields\n",
    "df.loc[df['cast'].isna(),'cast'] = 'Not Given'"
   ]
  },
  {
   "cell_type": "code",
   "execution_count": 32,
   "id": "a9745429",
   "metadata": {},
   "outputs": [],
   "source": [
    "# dropping other row records that are null\n",
    "df.drop(df[df['date_added'].isna()].index,axis=0,inplace=True)\n",
    "df.drop(df[df['rating'].isna()].index,axis=0,inplace=True)\n",
    "df.drop(df[df['duration'].isna()].index,axis=0,inplace=True)"
   ]
  },
  {
   "cell_type": "markdown",
   "id": "6cc8aa9f",
   "metadata": {},
   "source": [
    "### Errors"
   ]
  },
  {
   "cell_type": "code",
   "execution_count": 33,
   "id": "c26b4fea",
   "metadata": {},
   "outputs": [
    {
     "data": {
      "text/html": [
       "<div>\n",
       "<style scoped>\n",
       "    .dataframe tbody tr th:only-of-type {\n",
       "        vertical-align: middle;\n",
       "    }\n",
       "\n",
       "    .dataframe tbody tr th {\n",
       "        vertical-align: top;\n",
       "    }\n",
       "\n",
       "    .dataframe thead th {\n",
       "        text-align: right;\n",
       "    }\n",
       "</style>\n",
       "<table border=\"1\" class=\"dataframe\">\n",
       "  <thead>\n",
       "    <tr style=\"text-align: right;\">\n",
       "      <th></th>\n",
       "      <th>date_added</th>\n",
       "      <th>release_year</th>\n",
       "    </tr>\n",
       "  </thead>\n",
       "  <tbody>\n",
       "    <tr>\n",
       "      <th>1551</th>\n",
       "      <td>2020-12-14</td>\n",
       "      <td>2021</td>\n",
       "    </tr>\n",
       "    <tr>\n",
       "      <th>1696</th>\n",
       "      <td>2020-11-15</td>\n",
       "      <td>2021</td>\n",
       "    </tr>\n",
       "    <tr>\n",
       "      <th>2920</th>\n",
       "      <td>2020-02-13</td>\n",
       "      <td>2021</td>\n",
       "    </tr>\n",
       "    <tr>\n",
       "      <th>3168</th>\n",
       "      <td>2019-12-06</td>\n",
       "      <td>2020</td>\n",
       "    </tr>\n",
       "    <tr>\n",
       "      <th>3287</th>\n",
       "      <td>2019-11-13</td>\n",
       "      <td>2020</td>\n",
       "    </tr>\n",
       "    <tr>\n",
       "      <th>3369</th>\n",
       "      <td>2019-10-25</td>\n",
       "      <td>2020</td>\n",
       "    </tr>\n",
       "    <tr>\n",
       "      <th>3433</th>\n",
       "      <td>2019-10-11</td>\n",
       "      <td>2020</td>\n",
       "    </tr>\n",
       "    <tr>\n",
       "      <th>4844</th>\n",
       "      <td>2018-05-30</td>\n",
       "      <td>2019</td>\n",
       "    </tr>\n",
       "    <tr>\n",
       "      <th>4845</th>\n",
       "      <td>2018-05-29</td>\n",
       "      <td>2019</td>\n",
       "    </tr>\n",
       "    <tr>\n",
       "      <th>5394</th>\n",
       "      <td>2017-07-01</td>\n",
       "      <td>2018</td>\n",
       "    </tr>\n",
       "    <tr>\n",
       "      <th>5658</th>\n",
       "      <td>2016-12-23</td>\n",
       "      <td>2018</td>\n",
       "    </tr>\n",
       "    <tr>\n",
       "      <th>5677</th>\n",
       "      <td>2016-12-13</td>\n",
       "      <td>2017</td>\n",
       "    </tr>\n",
       "    <tr>\n",
       "      <th>7063</th>\n",
       "      <td>2018-10-26</td>\n",
       "      <td>2019</td>\n",
       "    </tr>\n",
       "    <tr>\n",
       "      <th>7112</th>\n",
       "      <td>2013-03-31</td>\n",
       "      <td>2016</td>\n",
       "    </tr>\n",
       "  </tbody>\n",
       "</table>\n",
       "</div>"
      ],
      "text/plain": [
       "     date_added  release_year\n",
       "1551 2020-12-14          2021\n",
       "1696 2020-11-15          2021\n",
       "2920 2020-02-13          2021\n",
       "3168 2019-12-06          2020\n",
       "3287 2019-11-13          2020\n",
       "3369 2019-10-25          2020\n",
       "3433 2019-10-11          2020\n",
       "4844 2018-05-30          2019\n",
       "4845 2018-05-29          2019\n",
       "5394 2017-07-01          2018\n",
       "5658 2016-12-23          2018\n",
       "5677 2016-12-13          2017\n",
       "7063 2018-10-26          2019\n",
       "7112 2013-03-31          2016"
      ]
     },
     "execution_count": 33,
     "metadata": {},
     "output_type": "execute_result"
    }
   ],
   "source": [
    "# check if there are any added_dates that come before release_year\n",
    "import datetime as dt\n",
    "sum(df['date_added'].dt.year < df['release_year'])\n",
    "df.loc[(df['date_added'].dt.year < df['release_year']),['date_added','release_year']]\n"
   ]
  },
  {
   "cell_type": "code",
   "execution_count": 34,
   "id": "9a650ec4",
   "metadata": {},
   "outputs": [
    {
     "data": {
      "text/html": [
       "<div>\n",
       "<style scoped>\n",
       "    .dataframe tbody tr th:only-of-type {\n",
       "        vertical-align: middle;\n",
       "    }\n",
       "\n",
       "    .dataframe tbody tr th {\n",
       "        vertical-align: top;\n",
       "    }\n",
       "\n",
       "    .dataframe thead th {\n",
       "        text-align: right;\n",
       "    }\n",
       "</style>\n",
       "<table border=\"1\" class=\"dataframe\">\n",
       "  <thead>\n",
       "    <tr style=\"text-align: right;\">\n",
       "      <th></th>\n",
       "      <th>show_id</th>\n",
       "      <th>type</th>\n",
       "      <th>title</th>\n",
       "      <th>director</th>\n",
       "      <th>cast</th>\n",
       "      <th>country</th>\n",
       "      <th>date_added</th>\n",
       "      <th>release_year</th>\n",
       "      <th>rating</th>\n",
       "      <th>duration</th>\n",
       "      <th>listed_in</th>\n",
       "      <th>duration_value</th>\n",
       "      <th>duration_unit</th>\n",
       "      <th>dir_cast</th>\n",
       "    </tr>\n",
       "  </thead>\n",
       "  <tbody>\n",
       "    <tr>\n",
       "      <th>1551</th>\n",
       "      <td>s1552</td>\n",
       "      <td>TV Show</td>\n",
       "      <td>Hilda</td>\n",
       "      <td>Not Given</td>\n",
       "      <td>Bella Ramsey, Ameerah Falzon-Ojo, Oliver Nelso...</td>\n",
       "      <td>United Kingdom, Canada, United States</td>\n",
       "      <td>2020-12-14</td>\n",
       "      <td>2021</td>\n",
       "      <td>TV-Y7</td>\n",
       "      <td>2 Seasons</td>\n",
       "      <td>Kids' TV</td>\n",
       "      <td>2.0</td>\n",
       "      <td>Seasons</td>\n",
       "      <td>NaN</td>\n",
       "    </tr>\n",
       "    <tr>\n",
       "      <th>1696</th>\n",
       "      <td>s1697</td>\n",
       "      <td>TV Show</td>\n",
       "      <td>Polly Pocket</td>\n",
       "      <td>Not Given</td>\n",
       "      <td>Emily Tennant, Shannon Chan-Kent, Kazumi Evans...</td>\n",
       "      <td>Canada, United States, Ireland</td>\n",
       "      <td>2020-11-15</td>\n",
       "      <td>2021</td>\n",
       "      <td>TV-Y</td>\n",
       "      <td>2 Seasons</td>\n",
       "      <td>Kids' TV</td>\n",
       "      <td>2.0</td>\n",
       "      <td>Seasons</td>\n",
       "      <td>NaN</td>\n",
       "    </tr>\n",
       "    <tr>\n",
       "      <th>2920</th>\n",
       "      <td>s2921</td>\n",
       "      <td>TV Show</td>\n",
       "      <td>Love Is Blind</td>\n",
       "      <td>Not Given</td>\n",
       "      <td>Nick Lachey, Vanessa Lachey</td>\n",
       "      <td>United States</td>\n",
       "      <td>2020-02-13</td>\n",
       "      <td>2021</td>\n",
       "      <td>TV-MA</td>\n",
       "      <td>1 Season</td>\n",
       "      <td>Reality TV, Romantic TV Shows</td>\n",
       "      <td>1.0</td>\n",
       "      <td>Season</td>\n",
       "      <td>NaN</td>\n",
       "    </tr>\n",
       "    <tr>\n",
       "      <th>3168</th>\n",
       "      <td>s3169</td>\n",
       "      <td>TV Show</td>\n",
       "      <td>Fuller House</td>\n",
       "      <td>Not Given</td>\n",
       "      <td>Candace Cameron Bure, Jodie Sweetin, Andrea Ba...</td>\n",
       "      <td>United States</td>\n",
       "      <td>2019-12-06</td>\n",
       "      <td>2020</td>\n",
       "      <td>TV-PG</td>\n",
       "      <td>5 Seasons</td>\n",
       "      <td>TV Comedies</td>\n",
       "      <td>5.0</td>\n",
       "      <td>Seasons</td>\n",
       "      <td>NaN</td>\n",
       "    </tr>\n",
       "  </tbody>\n",
       "</table>\n",
       "</div>"
      ],
      "text/plain": [
       "     show_id     type          title   director  \\\n",
       "1551   s1552  TV Show          Hilda  Not Given   \n",
       "1696   s1697  TV Show   Polly Pocket  Not Given   \n",
       "2920   s2921  TV Show  Love Is Blind  Not Given   \n",
       "3168   s3169  TV Show   Fuller House  Not Given   \n",
       "\n",
       "                                                   cast  \\\n",
       "1551  Bella Ramsey, Ameerah Falzon-Ojo, Oliver Nelso...   \n",
       "1696  Emily Tennant, Shannon Chan-Kent, Kazumi Evans...   \n",
       "2920                        Nick Lachey, Vanessa Lachey   \n",
       "3168  Candace Cameron Bure, Jodie Sweetin, Andrea Ba...   \n",
       "\n",
       "                                    country date_added  release_year rating  \\\n",
       "1551  United Kingdom, Canada, United States 2020-12-14          2021  TV-Y7   \n",
       "1696         Canada, United States, Ireland 2020-11-15          2021   TV-Y   \n",
       "2920                          United States 2020-02-13          2021  TV-MA   \n",
       "3168                          United States 2019-12-06          2020  TV-PG   \n",
       "\n",
       "       duration                      listed_in  duration_value duration_unit  \\\n",
       "1551  2 Seasons                       Kids' TV             2.0       Seasons   \n",
       "1696  2 Seasons                       Kids' TV             2.0       Seasons   \n",
       "2920   1 Season  Reality TV, Romantic TV Shows             1.0        Season   \n",
       "3168  5 Seasons                    TV Comedies             5.0       Seasons   \n",
       "\n",
       "     dir_cast  \n",
       "1551      NaN  \n",
       "1696      NaN  \n",
       "2920      NaN  \n",
       "3168      NaN  "
      ]
     },
     "execution_count": 34,
     "metadata": {},
     "output_type": "execute_result"
    }
   ],
   "source": [
    "# sample some of the records and check that they have been accurately replaced\n",
    "df.iloc[[1551,1696,2920,3168]]\n"
   ]
  },
  {
   "cell_type": "code",
   "execution_count": 35,
   "id": "8eaa51f8",
   "metadata": {},
   "outputs": [
    {
     "data": {
      "text/plain": [
       "14"
      ]
     },
     "execution_count": 35,
     "metadata": {},
     "output_type": "execute_result"
    }
   ],
   "source": [
    "#Confirm that no more release_year inconsistencies\n",
    "sum(df['date_added'].dt.year < df['release_year'])"
   ]
  },
  {
   "cell_type": "markdown",
   "id": "2f741971",
   "metadata": {},
   "source": [
    "### Saving and Exporting"
   ]
  },
  {
   "cell_type": "code",
   "execution_count": 38,
   "id": "7fce7596",
   "metadata": {},
   "outputs": [],
   "source": [
    "df.to_csv('cleaned_netflix.csv', index=False)"
   ]
  }
 ],
 "metadata": {
  "kernelspec": {
   "display_name": "Python 3",
   "language": "python",
   "name": "python3"
  },
  "language_info": {
   "codemirror_mode": {
    "name": "ipython",
    "version": 3
   },
   "file_extension": ".py",
   "mimetype": "text/x-python",
   "name": "python",
   "nbconvert_exporter": "python",
   "pygments_lexer": "ipython3",
   "version": "3.12.6"
  }
 },
 "nbformat": 4,
 "nbformat_minor": 5
}
